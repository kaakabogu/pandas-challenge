{
 "cells": [
  {
   "cell_type": "markdown",
   "id": "722bf5da",
   "metadata": {},
   "source": [
    "### Written Report\n",
    "To receive all points, the written report presents a cohesive written analysis that:\n",
    "\n",
    "Summarizes the analysis\n",
    "\n",
    "Draws two correct conclusions or comparisons from the calculations"
   ]
  },
  {
   "cell_type": "code",
   "execution_count": null,
   "id": "2da46666",
   "metadata": {},
   "outputs": [],
   "source": []
  }
 ],
 "metadata": {
  "kernelspec": {
   "display_name": "PythonData",
   "language": "python",
   "name": "pythondata"
  },
  "language_info": {
   "codemirror_mode": {
    "name": "ipython",
    "version": 3
   },
   "file_extension": ".py",
   "mimetype": "text/x-python",
   "name": "python",
   "nbconvert_exporter": "python",
   "pygments_lexer": "ipython3",
   "version": "3.7.7"
  }
 },
 "nbformat": 4,
 "nbformat_minor": 5
}
